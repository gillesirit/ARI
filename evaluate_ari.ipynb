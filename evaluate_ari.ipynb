{
 "cells": [
  {
   "cell_type": "markdown",
   "metadata": {},
   "source": [
    "# Implementing ARI\n",
    "Author: Gilles Richard\n",
    "Date  : 2022\n",
    "The program for the pre-print paper \"ANALOGICAL RELEVANCE INDEX\"\n"
   ]
  },
  {
   "cell_type": "markdown",
   "metadata": {},
   "source": [
    "## ACTION 1: Importing libraries and define static variables"
   ]
  },
  {
   "cell_type": "code",
   "execution_count": 1,
   "metadata": {},
   "outputs": [],
   "source": [
    "#pip3 install matplotlib pandas sklearn statistics sklearn_relief\n",
    "import os\n",
    "import numpy as np\n",
    "from math import *\n",
    "from random import randint\n",
    "# FOR PLOT\n",
    "from matplotlib import pyplot\n",
    "\n",
    "# FOR CHI-SQUARE - MUTUAL INFORMATION - RELIEF\n",
    "import sklearn_relief as relief\n",
    "\n",
    "# FOR CROSS FOLD VALIDATION\n",
    "from sklearn.model_selection import StratifiedKFold, KFold\n",
    "\n",
    "# FOR TESTING ON LOGISTIC REGRESSION\n",
    "from sklearn.metrics import accuracy_score\n",
    "\n",
    "from statistics import mean\n",
    "\n",
    "# where all utilities are defined\n",
    "import utils\n",
    "from utils import *"
   ]
  },
  {
   "cell_type": "markdown",
   "metadata": {},
   "source": [
    "## ACTION 2: Defining binary functions in functions.py\n",
    "## ACTION 3: Dataset generation, pair generation and sampling in data_generation.py\n",
    "## ACTION 4: Defining utilities for chi2 and mutual information in ch2_mi.py\n",
    "## ACTION 5: Defining baseline logistic regression in baseline.py\n",
    "## ACTION 6: Defining ARI in ari.py\n",
    "## ACTION 7: Function to validate ARI stability wrt sample size - order relevance¶"
   ]
  },
  {
   "cell_type": "code",
   "execution_count": 2,
   "metadata": {},
   "outputs": [],
   "source": [
    "def display_score_latex(dimension,row_name,scores_means,scores_std):\n",
    "    latex_line=\"\"\n",
    "    for i in range(dimension):\n",
    "        #latex_line+=\" & \"+str(round(scores_means[i],2))+\"-\"+str(round(scores_std[i],2))\n",
    "        latex_line+=\" & \"+str(round(scores_means[i],2))\n",
    "    print(row_name+latex_line+\"\\\\\\\\\")\n",
    "    return True\n",
    "\n",
    "def get_ari(dataset,dimension,sample_size):  #return a list of score per feature\n",
    "    list_of_attributes=[]\n",
    "    for i in range(dimension):   # index of attributes\n",
    "        list_of_attributes.append(i)    \n",
    "    ari_scores = [0]*dimension   # ari is all 0 to start with\n",
    "    list_of_pairs = all_pairs(dataset)\n",
    "    ari_scores = select_features_ari(dimension,list_of_attributes,dataset,list_of_pairs)\n",
    "    return ari_scores"
   ]
  },
  {
   "cell_type": "markdown",
   "metadata": {},
   "source": [
    "## ACTION 8: Validate ARI stability (synthetic dataset)\n",
    "Action 8 relates to Section 6.1: testing the stability of ARI\n",
    "The values given might differ slightly due to random sampling of data (Table 4)"
   ]
  },
  {
   "cell_type": "code",
   "execution_count": 3,
   "metadata": {},
   "outputs": [
    {
     "name": "stdout",
     "output_type": "stream",
     "text": [
      "100 & 0.8 & 0.14 & 0.28 & 0.2 & 0.0 & 0.0 & 0.0 & 0.0 & 0.0 & 0.0\\\\\n",
      "200 & 0.73 & 0.28 & 0.27 & 0.0 & 0.0 & 0.0 & 0.0 & 0.0 & 0.0 & 0.0\\\\\n",
      "400 & 0.72 & 0.23 & 0.25 & 0.0 & 0.0 & 0.0 & 0.0 & 0.0 & 0.0 & 0.0\\\\\n",
      "500 & 0.75 & 0.25 & 0.25 & 0.0 & 0.0 & 0.0 & 0.0 & 0.0 & 0.0 & 0.0\\\\\n",
      "100 & 1.0 & 1.0 & 0.0 & 0.0 & 0.0 & 0.0 & 0.0 & 0.0 & 0.0 & 0.0\\\\\n",
      "200 & 1.0 & 1.0 & 0.0 & 0.0 & 0.0 & 0.0 & 0.0 & 0.0 & 0.0 & 0.0\\\\\n",
      "400 & 1.0 & 1.0 & 0.0 & 0.0 & 0.0 & 0.0 & 0.0 & 0.0 & 0.0 & 0.0\\\\\n",
      "500 & 1.0 & 1.0 & 0.0 & 0.0 & 0.0 & 0.0 & 0.0 & 0.0 & 0.0 & 0.0\\\\\n",
      "100 & 1.0 & 1.0 & 1.0 & 0.0 & 0.0 & 0.0 & 0.2 & 0.0 & 0.0 & 0.0\\\\\n",
      "200 & 1.0 & 1.0 & 1.0 & 0.0 & 0.0 & 0.0 & 0.0 & 0.0 & 0.0 & 0.0\\\\\n",
      "400 & 1.0 & 1.0 & 1.0 & 0.0 & 0.0 & 0.0 & 0.0 & 0.0 & 0.0 & 0.0\\\\\n",
      "500 & 1.0 & 1.0 & 1.0 & 0.0 & 0.0 & 0.0 & 0.0 & 0.0 & 0.0 & 0.0\\\\\n",
      "100 & 0.55 & 0.26 & 0.29 & 0.16 & 0.24 & 0.23 & 0.18 & 0.41 & 0.21 & 0.28\\\\\n",
      "200 & 0.25 & 0.22 & 0.27 & 0.24 & 0.25 & 0.27 & 0.25 & 0.27 & 0.2 & 0.2\\\\\n",
      "400 & 0.24 & 0.21 & 0.22 & 0.21 & 0.26 & 0.22 & 0.24 & 0.25 & 0.25 & 0.24\\\\\n",
      "500 & 0.24 & 0.24 & 0.24 & 0.25 & 0.24 & 0.26 & 0.25 & 0.25 & 0.24 & 0.24\\\\\n",
      "100 & 0.13 & 0.19 & 0.2 & 0.24 & 0.21 & 0.25 & 0.0 & 0.0 & 0.0 & 0.0\\\\\n",
      "200 & 0.21 & 0.18 & 0.2 & 0.22 & 0.22 & 0.21 & 0.0 & 0.0 & 0.0 & 0.0\\\\\n",
      "400 & 0.22 & 0.2 & 0.2 & 0.24 & 0.25 & 0.2 & 0.0 & 0.0 & 0.0 & 0.0\\\\\n",
      "500 & 0.22 & 0.23 & 0.21 & 0.21 & 0.23 & 0.22 & 0.0 & 0.0 & 0.0 & 0.0\\\\\n",
      "100 & 0.68 & 0.28 & 0.19 & 0.0 & 0.0 & 0.0 & 0.0 & 0.0 & 0.0 & 0.0\\\\\n",
      "200 & 0.71 & 0.24 & 0.23 & 0.0 & 0.0 & 0.0 & 0.0 & 0.0 & 0.0 & 0.0\\\\\n",
      "400 & 0.78 & 0.23 & 0.23 & 0.0 & 0.0 & 0.0 & 0.0 & 0.0 & 0.0 & 0.0\\\\\n",
      "500 & 0.74 & 0.25 & 0.26 & 0.0 & 0.0 & 0.0 & 0.0 & 0.0 & 0.0 & 0.0\\\\\n",
      "100 & 0.87 & 0.77 & 0.77 & 0.0 & 0.0 & 0.0 & 0.0 & 0.0 & 0.0 & 0.0\\\\\n",
      "200 & 0.79 & 0.78 & 0.75 & 0.0 & 0.0 & 0.0 & 0.0 & 0.0 & 0.0 & 0.0\\\\\n",
      "400 & 0.74 & 0.74 & 0.76 & 0.0 & 0.0 & 0.0 & 0.0 & 0.0 & 0.0 & 0.0\\\\\n",
      "500 & 0.75 & 0.75 & 0.74 & 0.0 & 0.0 & 0.0 & 0.0 & 0.0 & 0.0 & 0.0\\\\\n",
      "100 & 0.3 & 0.31 & 0.25 & 0.36 & 0.27 & 0.39 & 0.29 & 0.28 & 0.23 & 0.37\\\\\n",
      "200 & 0.31 & 0.27 & 0.27 & 0.3 & 0.33 & 0.26 & 0.26 & 0.27 & 0.26 & 0.41\\\\\n",
      "400 & 0.24 & 0.25 & 0.23 & 0.28 & 0.26 & 0.25 & 0.24 & 0.25 & 0.24 & 0.32\\\\\n",
      "500 & 0.27 & 0.27 & 0.26 & 0.28 & 0.27 & 0.26 & 0.24 & 0.26 & 0.26 & 0.34\\\\\n"
     ]
    }
   ],
   "source": [
    "DATASET_GENERAL = \"datasets-tested/dataset_general.csv\"\n",
    "filename=DATASET_GENERAL\n",
    "\n",
    "def validate_stability(dimension,categorical_range,f,number_of_test,sample_size_list):    \n",
    "    for sample_size in sample_size_list:\n",
    "        size_of_X=int(pow((categorical_range+1),dimension))\n",
    "        if (sample_size > size_of_X):\n",
    "            print(\"Skip sample size \", sample_size)\n",
    "            print(\"Sample size must be < total sample size, which is \", size_of_X)\n",
    "            continue\n",
    "        #mean_ari_scores = [0]*dimension\n",
    "        feature_score_list=[]\n",
    "        for i in range(dimension): #create a list of list of scores per feature\n",
    "            feature_score_list.append([])\n",
    "            \n",
    "        for u in range(number_of_test):                        \n",
    "            create_categorical_dataset(filename,f,dimension,sample_size,categorical_range)            \n",
    "            dataset, X, y, dimension = load_dataset(filename)\n",
    "            ari_scores = get_ari(dataset,dimension,sample_size)            \n",
    "            for j in range(dimension): #accumulate the scores\n",
    "                #mean_ari_scores[j]+=ari_scores[j]\n",
    "                feature_score_list[j].append(ari_scores[j])\n",
    "        \n",
    "        ari_scores_means = [mean(feature_score_list[j]) for j in range(dimension)]        \n",
    "        ari_scores_std  = [np.array(feature_score_list[j]).std() for j in range(dimension)]        \n",
    "        display_score_latex(dimension,str(sample_size),ari_scores_means,ari_scores_std)        \n",
    "    return\n",
    "\n",
    "'''FOR ARTIFICIAL DATASET\n",
    "   This section tests artificial data sets defined in functions.py\n",
    "'''\n",
    "dimension = 10\n",
    "categorical_range = 1 #1 means binary - range of values for feature\n",
    "\n",
    "number_of_test = 10\n",
    "sample_size_list = [100,200,400,500]\n",
    "\n",
    "list_of_functions=[g1_array,g2_array,g3_array,g4_array,g5_array,g6_array,g7_array,g8_array]\n",
    "\n",
    "for f in list_of_functions:    \n",
    "    validate_stability(dimension,categorical_range,f,number_of_test,sample_size_list)    \n"
   ]
  },
  {
   "cell_type": "markdown",
   "metadata": {},
   "source": [
    "## ACTION 9: Function to compare ARI - chi-square - mutual information - relief\n"
   ]
  },
  {
   "cell_type": "code",
   "execution_count": 4,
   "metadata": {},
   "outputs": [],
   "source": [
    "def compare_score_on_dataset(filename,number_of_test,sample_ratio):\n",
    "    dataset, X, y, dimension = load_dataset(filename)\n",
    "    #INFO\n",
    "    dataset_size=dataset.shape[0]\n",
    "    print(\"****INFORMATION ON INITIAL DATA *******\")\n",
    "    print(\"dataset:\",filename,\"size:\",dataset_size,\"dimension:\",dimension)\n",
    "\n",
    "    #list of attribute as indices: 0, 1, ...\n",
    "    list_of_attributes=[]\n",
    "    attribute_names=[]\n",
    "    for i in range(dimension):\n",
    "        list_of_attributes.append(i)\n",
    "        attribute_names.append(\"a\"+str(i+1))\n",
    "    #print(attribute_names)\n",
    "    \n",
    "    sample_size = int(dataset_size*sample_ratio)\n",
    "    print(sample_size)\n",
    "    mean_ari_scores    = [0]*dimension\n",
    "    mean_chi_scores    = [0]*dimension\n",
    "    mean_mut_scores    = [0]*dimension\n",
    "    mean_relief_scores = [0]*dimension\n",
    "    #print(sample_size)\n",
    "\n",
    "    for u in range(number_of_test):\n",
    "        sample_set = generate_sample_set(dataset,sample_size)\n",
    "        list_of_pairs = all_pairs(sample_set)\n",
    "        #print(len(list_of_pairs))\n",
    "        ari_scores = select_features_ari(dimension,list_of_attributes,sample_set,list_of_pairs)\n",
    "# NOT SURE WE TEST ON THE SAME SET BECAUSE OF TEST_SIZE PARAM\n",
    "        X_train_enc, y_train_enc, X_test_enc=prepare_all(X, y, test_size=sample_ratio, random_state=1)\n",
    "        X_train_chi, X_test_chi, fs_chi = select_all_features_chi2(X_train_enc, y_train_enc, X_test_enc)\n",
    "        X_train_mut, X_test_mut, fs_mut = select_all_features_mutual(X_train_enc, y_train_enc, X_test_enc)\n",
    "    \n",
    "    # RELIEF\n",
    "        relief_scores = relief.Relief(n_features=dimension) # we check all attributes\n",
    "        my_transformed_matrix = relief_scores.fit_transform(X_train_enc,y_train_enc)\n",
    "\n",
    "# NORMALIZATION FACTORS - All scores are normalized +0.001 to avoid division by 0\n",
    "        Z_ari    = sum(ari_scores) + 0.001  #WE SHOULD TAKE INTO ACCOUNT THE VALUE 2 (meaningless)\n",
    "        Z_chi    = sum(fs_chi.scores_) + 0.001\n",
    "        Z_mi     = sum(fs_mut.scores_) + 0.001\n",
    "        Z_relief = sum(relief_scores.w_) + 0.001\n",
    "        \n",
    "#UPDATE MEAN SCORES BY ADDING NORMALIZED SCORES IN [0,1]  \n",
    "        for j in range(dimension):\n",
    "            if ari_scores[j]!=2:\n",
    "                mean_ari_scores[j]   += ari_scores[j]/(Z_ari)  # adding 2 is meaningless !!!!\n",
    "            mean_chi_scores[j]   += fs_chi.scores_[j]/(Z_chi)\n",
    "            mean_mut_scores[j]   += fs_mut.scores_[j]/(Z_mi)\n",
    "            mean_relief_scores[j]+= relief_scores.w_[j]/(Z_relief)\n",
    "\n",
    "    mean_ari_scores    = [a*(1/number_of_test) for a in mean_ari_scores] # NOT SURE THIS CORRECT NOW\n",
    "    mean_chi_scores    = [a*(1/number_of_test) for a in mean_chi_scores]\n",
    "    mean_mut_scores    = [a*(1/number_of_test) for a in mean_mut_scores]\n",
    "    mean_relief_scores = [a*(1/number_of_test) for a in mean_relief_scores]\n",
    "    \n",
    "    ari_scores_std  = [np.array(mean_ari_scores[j]).std() for j in range(dimension)]\n",
    "    chi_scores_std  = [np.array(mean_chi_scores[j]).std() for j in range(dimension)]\n",
    "    mut_scores_std  = [np.array(mean_mut_scores[j]).std() for j in range(dimension)]\n",
    "    relief_scores_std  = [np.array(mean_relief_scores[j]).std() for j in range(dimension)]\n",
    "\n",
    "    pyplot.title(\"ARI\")\n",
    "    pyplot.bar(attribute_names, mean_ari_scores)\n",
    "    pyplot.show()\n",
    "\n",
    "    pyplot.title(\"CHI-SQUARE\")\n",
    "    pyplot.bar(attribute_names, mean_chi_scores)\n",
    "    pyplot.show()\n",
    "\n",
    "    pyplot.title(\"MUTUAL INFORMATION\")\n",
    "    pyplot.bar(attribute_names, mean_mut_scores)\n",
    "    pyplot.show()\n",
    "\n",
    "    pyplot.title(\"RELIEF\")\n",
    "    pyplot.bar(attribute_names, mean_relief_scores)\n",
    "    pyplot.show()\n",
    "# PREPARE FOR LATEX\n",
    "    display_score_latex(dimension,\"   ari\",mean_ari_scores,ari_scores_std)\n",
    "    display_score_latex(dimension,\"  chi2\",mean_chi_scores,chi_scores_std)\n",
    "    display_score_latex(dimension,\"    mi\",mean_mut_scores,mut_scores_std)\n",
    "    display_score_latex(dimension,\"relief\",mean_relief_scores,relief_scores_std)\n",
    "    \n",
    "    return True"
   ]
  },
  {
   "cell_type": "markdown",
   "metadata": {},
   "source": [
    "## ACTION 10: Comparing feature score methods values\n",
    "The next block of code relates to Section 5.4.1 of the paper\n",
    "The values given might differ slightly due to random sampling of data (Table 2)"
   ]
  },
  {
   "cell_type": "code",
   "execution_count": null,
   "metadata": {},
   "outputs": [
    {
     "name": "stdout",
     "output_type": "stream",
     "text": [
      "1-monks-1.csv\n",
      "****INFORMATION ON INITIAL DATA *******\n",
      "dataset: datasets-tested/1-monks-1.csv size: 432 dimension: 6\n",
      "345\n"
     ]
    },
    {
     "data": {
      "image/png": "[encoded data removed]",
      "text/plain": [
       "<Figure size 432x288 with 1 Axes>"
      ]
     },
     "metadata": {
      "needs_background": "light"
     },
     "output_type": "display_data"
    },
    {
     "data": {
      "image/png": "[encoded data removed]",
      "text/plain": [
       "<Figure size 432x288 with 1 Axes>"
      ]
     },
     "metadata": {
      "needs_background": "light"
     },
     "output_type": "display_data"
    },
    {
     "data": {
      "image/png": "[encoded data removed]",
      "text/plain": [
       "<Figure size 432x288 with 1 Axes>"
      ]
     },
     "metadata": {
      "needs_background": "light"
     },
     "output_type": "display_data"
    },
    {
     "data": {
      "image/png": "[encoded data removed]",
      "text/plain": [
       "<Figure size 432x288 with 1 Axes>"
      ]
     },
     "metadata": {
      "needs_background": "light"
     },
     "output_type": "display_data"
    },
    {
     "name": "stdout",
     "output_type": "stream",
     "text": [
      "   ari & 0.38 & 0.38 & 0.0 & 0.0 & 0.25 & 0.0\\\\\n",
      "  chi2 & 0.0 & 0.0 & 0.02 & 0.06 & 0.91 & 0.01\\\\\n",
      "    mi & 0.06 & 0.05 & 0.05 & 0.1 & 0.69 & 0.05\\\\\n",
      "relief & 0.23 & 0.23 & 0.07 & 0.1 & 0.3 & 0.06\\\\\n",
      "2-monks-2.csv\n",
      "****INFORMATION ON INITIAL DATA *******\n",
      "dataset: datasets-tested/2-monks-2.csv size: 601 dimension: 6\n",
      "480\n"
     ]
    },
    {
     "data": {
      "image/png": "[encoded data removed]",
      "text/plain": [
       "<Figure size 432x288 with 1 Axes>"
      ]
     },
     "metadata": {
      "needs_background": "light"
     },
     "output_type": "display_data"
    },
    {
     "data": {
      "image/png": "[encoded data removed]",
      "text/plain": [
       "<Figure size 432x288 with 1 Axes>"
      ]
     },
     "metadata": {
      "needs_background": "light"
     },
     "output_type": "display_data"
    },
    {
     "data": {
      "image/png": "[encoded data removed]",
      "text/plain": [
       "<Figure size 432x288 with 1 Axes>"
      ]
     },
     "metadata": {
      "needs_background": "light"
     },
     "output_type": "display_data"
    },
    {
     "data": {
      "image/png": "[encoded data removed]",
      "text/plain": [
       "<Figure size 432x288 with 1 Axes>"
      ]
     },
     "metadata": {
      "needs_background": "light"
     },
     "output_type": "display_data"
    },
    {
     "name": "stdout",
     "output_type": "stream",
     "text": [
      "   ari & 0.14 & 0.14 & 0.23 & 0.14 & 0.11 & 0.23\\\\\n",
      "  chi2 & 0.0 & 0.03 & 0.0 & 0.92 & 0.03 & 0.01\\\\\n",
      "    mi & 0.15 & 0.17 & 0.06 & 0.36 & 0.17 & 0.08\\\\\n",
      "relief & 0.09 & 0.16 & 0.15 & 0.2 & 0.2 & 0.2\\\\\n",
      "3-monks-3.csv\n",
      "****INFORMATION ON INITIAL DATA *******\n",
      "dataset: datasets-tested/3-monks-3.csv size: 554 dimension: 6\n",
      "443\n"
     ]
    },
    {
     "data": {
      "image/png": "[encoded data removed]",
      "text/plain": [
       "<Figure size 432x288 with 1 Axes>"
      ]
     },
     "metadata": {
      "needs_background": "light"
     },
     "output_type": "display_data"
    },
    {
     "data": {
      "image/png": "[encoded data removed]",
      "text/plain": [
       "<Figure size 432x288 with 1 Axes>"
      ]
     },
     "metadata": {
      "needs_background": "light"
     },
     "output_type": "display_data"
    },
    {
     "data": {
      "image/png": "[encoded data removed]",
      "text/plain": [
       "<Figure size 432x288 with 1 Axes>"
      ]
     },
     "metadata": {
      "needs_background": "light"
     },
     "output_type": "display_data"
    },
    {
     "data": {
      "image/png": "[encoded data removed]",
      "text/plain": [
       "<Figure size 432x288 with 1 Axes>"
      ]
     },
     "metadata": {
      "needs_background": "light"
     },
     "output_type": "display_data"
    },
    {
     "name": "stdout",
     "output_type": "stream",
     "text": [
      "   ari & 0.03 & 0.47 & 0.02 & 0.08 & 0.39 & 0.02\\\\\n",
      "  chi2 & 0.01 & 0.51 & 0.0 & 0.01 & 0.48 & 0.0\\\\\n",
      "    mi & 0.04 & 0.49 & 0.03 & 0.04 & 0.39 & 0.01\\\\\n",
      "relief & 0.09 & 0.38 & 0.03 & 0.05 & 0.38 & 0.08\\\\\n",
      "4-breast-cancer.csv\n",
      "****INFORMATION ON INITIAL DATA *******\n",
      "dataset: datasets-tested/4-breast-cancer.csv size: 277 dimension: 9\n",
      "221\n"
     ]
    }
   ],
   "source": [
    "number_of_test = 10\n",
    "sample_ratio   = 0.8   #THERE IS AN ISSUE HERE AS I DO NOT UNDERSTAND TRAIN/TEST SAMPLE_RATIO\n",
    "\n",
    "tested_folder=\"datasets-tested/\"\n",
    "for filename in os.listdir(tested_folder):\n",
    "    print(filename)\n",
    "    if filename==\".DS_Store\":\n",
    "        continue\n",
    "    compare_score_on_dataset(tested_folder+filename,number_of_test,sample_ratio)"
   ]
  },
  {
   "cell_type": "markdown",
   "metadata": {},
   "source": [
    "## ACTION 11: Comparing feature relevance score effectiveness on logistic regression\n",
    "The following block relates to Section 5.4.2 of the paper  (Table 3)."
   ]
  },
  {
   "cell_type": "code",
   "execution_count": 10,
   "metadata": {},
   "outputs": [],
   "source": [
    "def test_binary_dataset(filename,k): #comparing accuracies by running logistic regression on k best features\n",
    "    dataset, X, y, dimension = load_dataset(filename)\n",
    "    print(\"data shape:\",X.shape, \"dimension\", dimension,\"nb of best features:\",k)\n",
    "    FOLDS=10\n",
    "    list_of_attributes=[]\n",
    "    for i in range(dimension):\n",
    "        list_of_attributes.append(i)\n",
    "    acc_baseline_all_features=baseline_for_binary_with_all(X, y,FOLDS) #10 fold cross valid\n",
    "    list_of_accuracy_ari=[]\n",
    "    list_of_accuracy_chi2=[]\n",
    "    list_of_accuracy_mi=[]\n",
    "    list_of_accuracy_relief=[]\n",
    "    skf = StratifiedKFold(n_splits=FOLDS, shuffle=True)\n",
    "    for train, test in skf.split(X,y):\n",
    "        #print(\"****************\")\n",
    "        X_train_chi2, X_test_chi2, _ = select_k_features_chi2(X[train], y[train], X[test], k)\n",
    "        X_train_mi, X_test_mi, _ = select_k_features_mi(X[train], y[train], X[test], k)\n",
    "        r = relief.Relief(n_features=k)\n",
    "        X_train_relief = r.fit_transform(X[train], y[train])\n",
    "        X_test_relief = r.fit_transform(X[test], y[test])              \n",
    "    # ARI feature selection\n",
    "        #create A : list of attribute as index 0, 1, ...\n",
    "        list_of_attributes=[]\n",
    "        for i in range(dimension):\n",
    "            list_of_attributes.append(i)\n",
    "        sample_set = dataset[train]\n",
    "        list_of_pairs = all_pairs(sample_set)\n",
    "        ari_scores = select_features_ari(dimension,list_of_attributes,sample_set,list_of_pairs)\n",
    "        s = numpy.array(ari_scores)\n",
    "        sort_index = np.argsort(s)\n",
    "        print(sort_index)\n",
    "        print(ari_scores)\n",
    "        #transform the dataset to keep only the k relevant features\n",
    "        \n",
    "        a=accuracy(X_train_ari,y[train],X_test_ari,y[test])\n",
    "        list_of_accuracy_ari.append(a)   \n",
    "    # CHI2\n",
    "        a=accuracy(X_train_chi2,y[train],X_test_chi2,y[test])\n",
    "        list_of_accuracy_chi2.append(a)\n",
    "        print(\"  chi2\",a)   \n",
    "    # MI \n",
    "        a=accuracy(X_train_mi,y[train],X_test_mi,y[test])\n",
    "        list_of_accuracy_mi.append(a)\n",
    "        #print(\"    mi\",a)\n",
    "    # RELIEF\n",
    "        a=accuracy(X_train_relief,y[train],X_test_relief,y[test])\n",
    "        list_of_accuracy_relief.append(a)\n",
    "        #print(\"relief\",a)\n",
    "        \n",
    "    acc_ari   = mean(list_of_accuracy_ari)\n",
    "    acc_chi2  = mean(list_of_accuracy_chi2)\n",
    "    acc_mi    = mean(list_of_accuracy_mi)\n",
    "    acc_relief= mean(list_of_accuracy_relief)\n",
    "    return(acc_baseline_all_features,acc_ari,acc_chi2,acc_mi,acc_relief)\n",
    "\n",
    "\n",
    "def test_categorical_dataset(filename,k):  \n",
    "    dataset, X, y, dimension = load_dataset(filename)\n",
    "    print(\"data shape:\",X.shape, \"dimension\", dimension,\"nb of used best features:\",k)\n",
    "    FOLDS=10\n",
    "    list_of_attributes=[]\n",
    "    \n",
    "    for i in range(dimension):\n",
    "        list_of_attributes.append(i)\n",
    "    \n",
    "    acc_baseline_all_features=baseline_for_categorical_with_all(X,y,FOLDS) #10 fold cross valid\n",
    "    \n",
    "    list_of_accuracy_ari=[]\n",
    "    list_of_accuracy_chi2=[]\n",
    "    list_of_accuracy_mi=[]\n",
    "    list_of_accuracy_relief=[]\n",
    "    skf = StratifiedKFold(n_splits=FOLDS, shuffle=True)\n",
    "    X_enc=prepare_input(X)\n",
    "    y_enc=prepare_target(y)\n",
    "       \n",
    "    fold_count=1\n",
    "    #Iterate for each fold     \n",
    "    for train, test in skf.split(X_enc,y_enc):\n",
    "        print(\"fold\", fold_count, \" \", end=\"\")\n",
    "        fold_count += 1\n",
    "        X_train_chi2_enc, X_test_chi2_enc, _ = select_k_features_chi2(X_enc[train], y_enc[train], X_enc[test], k)\n",
    "        X_train_mi_enc, X_test_mi_enc, _ = select_k_features_mi(X_enc[train], y_enc[train], X_enc[test], k)\n",
    "        r = relief.Relief(n_features=k)\n",
    "        X_train_relief_enc = r.fit_transform(X_enc[train], y_enc[train])\n",
    "        X_test_relief_enc = r.fit_transform(X_enc[test], y_enc[test])    \n",
    "    # ARI feature selection\n",
    "        #create A : list of attribute as index 0, 1, ...\n",
    "        list_of_attributes=[]\n",
    "        for i in range(dimension):\n",
    "            list_of_attributes.append(i)\n",
    "        sample_set = dataset[train]\n",
    "        list_of_pairs = all_pairs(sample_set)\n",
    "        ari_scores = select_features_ari(dimension,list_of_attributes,sample_set,list_of_pairs)\n",
    "        s = np.array(ari_scores)\n",
    "        sort_index = np.argsort(s)\n",
    "        sort_index=np.flipud(sort_index)\n",
    "        #print(\"ari index\",sort_index)\n",
    "        #print(\"ari scores:\",ari_scores)\n",
    "        # transform the dataset to keep only the k relevant features\n",
    "        X_train_ari_enc = np.delete(X_enc[train], sort_index[0:k],axis=1)\n",
    "        X_test_ari_enc  = np.delete(X_enc[test],sort_index[0:k],axis=1)\n",
    "        a=accuracy(X_train_ari_enc,y_enc[train],X_test_ari_enc,y_enc[test])\n",
    "        list_of_accuracy_ari.append(a)  \n",
    "    # CHI2 feature selection\n",
    "        a=accuracy(X_train_chi2_enc,y_enc[train],X_test_chi2_enc,y_enc[test])\n",
    "        list_of_accuracy_chi2.append(a)\n",
    "    # MI feature selection\n",
    "        a=accuracy(X_train_mi_enc,y_enc[train],X_test_mi_enc,y_enc[test])\n",
    "        list_of_accuracy_mi.append(a)\n",
    "    # RELIEF\n",
    "        a=accuracy(X_train_relief_enc,y_enc[train],X_test_relief_enc,y_enc[test])\n",
    "        list_of_accuracy_relief.append(a)\n",
    "        \n",
    "    print(\"\")\n",
    "    acc_ari   = mean(list_of_accuracy_ari)\n",
    "    acc_chi2  = mean(list_of_accuracy_chi2)\n",
    "    acc_mi    = mean(list_of_accuracy_mi)\n",
    "    acc_relief= mean(list_of_accuracy_relief)\n",
    "    return(acc_baseline_all_features,acc_ari,acc_chi2,acc_mi,acc_relief)"
   ]
  },
  {
   "cell_type": "code",
   "execution_count": 11,
   "metadata": {},
   "outputs": [
    {
     "name": "stdout",
     "output_type": "stream",
     "text": [
      "Tested dataset: 1-monks-1.csv - dimension: 6  - k best dimension tested: [4]\n",
      "data shape: (432, 6) dimension 6 nb of used best features: 4\n",
      "fold 1  fold 2  fold 3  fold 4  fold 5  fold 6  fold 7  fold 8  fold 9  fold 10  \n",
      "all: 66.68  - ari: 41.65  - chi2: 66.68  - mi: 66.68  - relief: 52.57\n",
      "\n",
      "Tested dataset: 2-monks-2.csv - dimension: 6  - k best dimension tested: [4]\n",
      "data shape: (601, 6) dimension 6 nb of used best features: 4\n",
      "fold 1  fold 2  fold 3  fold 4  fold 5  fold 6  fold 7  fold 8  fold 9  fold 10  \n",
      "all: 63.72  - ari: 65.72  - chi2: 64.22  - mi: 65.39  - relief: 64.56\n",
      "\n",
      "Tested dataset: 3-monks-3.csv - dimension: 6  - k best dimension tested: [4]\n",
      "data shape: (554, 6) dimension 6 nb of used best features: 4\n",
      "fold 1  fold 2  fold 3  fold 4  fold 5  fold 6  fold 7  fold 8  fold 9  fold 10  \n",
      "all: 76.35  - ari: 49.27  - chi2: 76.16  - mi: 75.98  - relief: 76.53\n",
      "\n",
      "Tested dataset: 4-breast-cancer.csv - dimension: 9  - k best dimension tested: [4]\n",
      "data shape: (277, 9) dimension 9 nb of used best features: 4\n",
      "fold 1  fold 2  fold 3  fold 4  fold 5  fold 6  fold 7  fold 8  fold 9  fold 10  \n",
      "all: 99.29  - ari: 87.34  - chi2: 99.64  - mi: 99.64  - relief: 52.04\n",
      "\n",
      "Tested dataset: 5-hiv.csv - dimension: 8  - k best dimension tested: [4]\n",
      "data shape: (746, 8) dimension 8 nb of used best features: 4\n",
      "fold 1  fold 2  fold 3  fold 4  fold 5  fold 6  fold 7  fold 8  fold 9  fold 10  \n",
      "all: 64.20  - ari: 58.05  - chi2: 63.95  - mi: 59.24  - relief: 53.85\n",
      "\n",
      "Tested dataset: 6-primary-tumor.data-no_missing.csv - dimension: 17  - k best dimension tested: [4]\n",
      "data shape: (132, 17) dimension 17 nb of used best features: 4\n",
      "fold 1  fold 2  fold 3  fold 4  fold 5  fold 6  fold 7  fold 8  fold 9  fold 10  \n",
      "all: 77.31  - ari: 81.04  - chi2: 78.79  - mi: 76.54  - relief: 71.87\n",
      "\n",
      "Tested dataset: 7-mushroom.csv - dimension: 22  - k best dimension tested: [4]\n",
      "data shape: (5644, 22) dimension 22 nb of used best features: 4\n",
      "fold 1  fold 2  fold 3  fold 4  fold 5  fold 6  fold 7  fold 8  fold 9  fold 10  \n",
      "all: 94.76  - ari: 93.34  - chi2: 81.64  - mi: 86.98  - relief: 70.05\n",
      "\n",
      "Tested dataset: dataset_general.csv - dimension: 10  - k best dimension tested: [4]\n",
      "data shape: (500, 10) dimension 10 nb of used best features: 4\n",
      "fold 1  fold 2  fold 3  fold 4  fold 5  fold 6  fold 7  fold 8  fold 9  fold 10  \n",
      "all: 83.80  - ari: 84.20  - chi2: 84.20  - mi: 84.20  - relief: 84.20\n",
      "\n"
     ]
    }
   ],
   "source": [
    "#convert to percentage rounded to 2 decimal points\n",
    "def to_perc(number):\n",
    "    return f'{number * 100:.2f}'\n",
    "\n",
    "data_path=\"datasets-tested/\"\n",
    "file_to_be_tested=os.listdir(data_path)\n",
    "for filename in file_to_be_tested:\n",
    "    dataset = read_csv(data_path+filename, header=None)\n",
    "    data = dataset.values\n",
    "    dimension=data.shape[1] - 1\n",
    "    \n",
    "    #k_list= [dimension//5, dimension//4,dimension//3, dimension//2, dimension-1]\n",
    "    k_list =[4]\n",
    "    k_list=list(set(k_list))\n",
    "    print(\"Tested dataset:\",filename,\"- dimension:\",dimension,\" - k best dimension tested:\",k_list)\n",
    "    for num in k_list:\n",
    "        if num>=1:\n",
    "         acc_baseline_all_features,acc_ari,acc_chi2,acc_mi,acc_relief=test_categorical_dataset(data_path+filename,num)\n",
    "         #print(\"all:\",acc_baseline_all_features,\" - ari:\",acc_ari,\" - chi2:\",acc_chi2,\" - mi:\",acc_mi,\" - relief:\",acc_relief)\n",
    "         \n",
    "         print(\"all:\",       to_perc(acc_baseline_all_features),\n",
    "               \" - ari:\",    to_perc(acc_ari),\n",
    "               \" - chi2:\",   to_perc(acc_chi2),\n",
    "               \" - mi:\",     to_perc(acc_mi),\n",
    "               \" - relief:\", to_perc(acc_relief))\n",
    "         print(\"\")   \n",
    "            "
   ]
  },
  {
   "cell_type": "code",
   "execution_count": null,
   "metadata": {},
   "outputs": [],
   "source": []
  },
  {
   "cell_type": "code",
   "execution_count": null,
   "metadata": {},
   "outputs": [],
   "source": []
  }
 ],
 "metadata": {
  "kernelspec": {
   "display_name": "Python 3 (ipykernel)",
   "language": "python",
   "name": "python3"
  },
  "language_info": {
   "codemirror_mode": {
    "name": "ipython",
    "version": 3
   },
   "file_extension": ".py",
   "mimetype": "text/x-python",
   "name": "python",
   "nbconvert_exporter": "python",
   "pygments_lexer": "ipython3",
   "version": "3.9.12"
  }
 },
 "nbformat": 4,
 "nbformat_minor": 4
}
